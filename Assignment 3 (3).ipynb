{
 "cells": [
  {
   "cell_type": "code",
   "execution_count": 1,
   "id": "2012a14d",
   "metadata": {},
   "outputs": [
    {
     "name": "stdout",
     "output_type": "stream",
     "text": [
      "No. of Upper case characters : 3\n",
      "No. of Lower case Characters : 12\n"
     ]
    }
   ],
   "source": [
    "x = 'The quick Brow Fox'\n",
    "def case(character):\n",
    "    upper = 0\n",
    "    lower = 0\n",
    "    for i in character:\n",
    "        \n",
    "        if i.isupper():\n",
    "            upper += 1\n",
    "        \n",
    "        elif i.islower():\n",
    "            lower += 1\n",
    "            \n",
    "    print(f\"No. of Upper case characters : {upper}\")\n",
    "    print(f\"No. of Lower case Characters : {lower}\")\n",
    "\n",
    "case(x)"
   ]
  },
  {
   "cell_type": "code",
   "execution_count": 2,
   "id": "8c3f6077",
   "metadata": {},
   "outputs": [
    {
     "name": "stdout",
     "output_type": "stream",
     "text": [
      "The quick Brow Fox\n",
      "No. of Upper case characters : 3\n",
      "No. of Lower case Characters : 12\n"
     ]
    }
   ],
   "source": [
    "x = input()\n",
    "def case(character):\n",
    "    upper = 0\n",
    "    lower = 0\n",
    "    for i in character:\n",
    "        \n",
    "        if i.isupper():\n",
    "            upper += 1\n",
    "        \n",
    "        elif i.islower():\n",
    "            lower += 1\n",
    "            \n",
    "    print(f\"No. of Upper case characters : {upper}\")\n",
    "    print(f\"No. of Lower case Characters : {lower}\")\n",
    "\n",
    "case(x)"
   ]
  },
  {
   "cell_type": "code",
   "execution_count": 3,
   "id": "fd783bc3",
   "metadata": {},
   "outputs": [
    {
     "name": "stdout",
     "output_type": "stream",
     "text": [
      "No. of Upper case characters : 3\n",
      "No. of Lower case Characters : 12\n",
      "No. of Spaces : 3\n"
     ]
    }
   ],
   "source": [
    "x = 'The quick Brow Fox'\n",
    "def case(character):\n",
    "    upper = 0\n",
    "    lower = 0\n",
    "    spaces = 0\n",
    "    for i in character:\n",
    "        \n",
    "        if i.isupper():\n",
    "            upper += 1\n",
    "        \n",
    "        elif i.islower():\n",
    "            lower += 1\n",
    "            \n",
    "        else:\n",
    "            spaces += 1\n",
    "            \n",
    "    print(f\"No. of Upper case characters : {upper}\")\n",
    "    print(f\"No. of Lower case Characters : {lower}\")\n",
    "    print(f\"No. of Spaces : {spaces}\")\n",
    "\n",
    "case(x)"
   ]
  }
 ],
 "metadata": {
  "kernelspec": {
   "display_name": "Python 3 (ipykernel)",
   "language": "python",
   "name": "python3"
  },
  "language_info": {
   "codemirror_mode": {
    "name": "ipython",
    "version": 3
   },
   "file_extension": ".py",
   "mimetype": "text/x-python",
   "name": "python",
   "nbconvert_exporter": "python",
   "pygments_lexer": "ipython3",
   "version": "3.10.2"
  }
 },
 "nbformat": 4,
 "nbformat_minor": 5
}
